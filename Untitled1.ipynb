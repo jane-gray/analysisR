{
 "cells": [
  {
   "cell_type": "markdown",
   "id": "41b3f9f2",
   "metadata": {},
   "source": [
    "<h1>My Jupyter Notebook on IBM Watson Studio<h1>"
   ]
  },
  {
   "cell_type": "markdown",
   "id": "0c5d5de9",
   "metadata": {},
   "source": [
    "**Jiwon JEONG PhD**"
   ]
  },
  {
   "cell_type": "markdown",
   "id": "fbf7403a",
   "metadata": {},
   "source": [
    "*I am interested in data science because I want to be a quantitative social scientist*"
   ]
  },
  {
   "cell_type": "markdown",
   "id": "163f2b28",
   "metadata": {},
   "source": [
    "<h3>The next code is about the way of calculation<h3>"
   ]
  },
  {
   "cell_type": "markdown",
   "id": "c40ea4b3",
   "metadata": {},
   "source": [
    "1+1"
   ]
  },
  {
   "cell_type": "markdown",
   "id": "b3b12525",
   "metadata": {},
   "source": [
    "What is Python ?\n",
    "https://en.wikipedia.org/wiki/Python_%28programming_language%29"
   ]
  },
  {
   "cell_type": "markdown",
   "id": "8b61020b",
   "metadata": {},
   "source": [
    "![Python logo](https://upload.wikimedia.org/wikipedia/commons/f/f8/Python_logo_and_wordmark.svg)"
   ]
  },
  {
   "cell_type": "markdown",
   "id": "8d15045a",
   "metadata": {},
   "source": [
    "| First appeared | 20 February 1991 |\n",
    "| --- | --- |\n",
    "| Stable release | 3.11.2 |"
   ]
  }
 ],
 "metadata": {
  "kernelspec": {
   "display_name": "Python 3 (ipykernel)",
   "language": "python",
   "name": "python3"
  },
  "language_info": {
   "codemirror_mode": {
    "name": "ipython",
    "version": 3
   },
   "file_extension": ".py",
   "mimetype": "text/x-python",
   "name": "python",
   "nbconvert_exporter": "python",
   "pygments_lexer": "ipython3",
   "version": "3.9.13"
  }
 },
 "nbformat": 4,
 "nbformat_minor": 5
}
